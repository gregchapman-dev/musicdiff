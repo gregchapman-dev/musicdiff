{
  "nbformat": 4,
  "nbformat_minor": 0,
  "metadata": {
    "colab": {
      "name": "musicdiff Demo",
      "provenance": [],
      "authorship_tag": "ABX9TyNZ0SOxpfX/rbanI46gjvLe",
      "include_colab_link": true
    },
    "kernelspec": {
      "name": "python3",
      "display_name": "Python 3"
    },
    "language_info": {
      "name": "python"
    }
  },
  "cells": [
    {
      "cell_type": "markdown",
      "metadata": {
        "id": "view-in-github",
        "colab_type": "text"
      },
      "source": [
        "<a href=\"https://colab.research.google.com/github/gregchapman-dev/musicdiff/blob/return_output_path/examples/musicdiff_demo.ipynb\" target=\"_parent\"><img src=\"https://colab.research.google.com/assets/colab-badge.svg\" alt=\"Open In Colab\"/></a>"
      ]
    },
    {
      "cell_type": "code",
      "execution_count": null,
      "metadata": {
        "id": "Xs5PXxMtwcoH"
      },
      "outputs": [],
      "source": [
        "!pip install git+https://github.com/gregchapman-dev/musicdiff@return_output_path\n",
        "!pip install --upgrade music21"
      ]
    },
    {
      "cell_type": "code",
      "source": [
        "# install musescore for the visualization\n",
        "!yes | add-apt-repository ppa:mscore-ubuntu/mscore3-stable\n",
        "!apt update\n",
        "!apt install musescore3"
      ],
      "metadata": {
        "id": "bzrSzL22yu2T"
      },
      "execution_count": null,
      "outputs": []
    },
    {
      "cell_type": "code",
      "source": [
        "# clone repo, only to get some example musical scores.\n",
        "# This is not necessary if you are running it on your scores\n",
        "\n",
        "!git clone https://github.com/gregchapman-dev/musicdiff"
      ],
      "metadata": {
        "id": "QNg2z_pFwfK3"
      },
      "execution_count": null,
      "outputs": []
    },
    {
      "cell_type": "markdown",
      "source": [
        "Import libraries and set the correct pat for musescore3."
      ],
      "metadata": {
        "id": "6dAGTq79yuJz"
      }
    },
    {
      "cell_type": "code",
      "source": [
        "import musicdiff\n",
        "import music21\n",
        "from pathlib import Path\n",
        "us = music21.environment.UserSettings()\n",
        "us['musescoreDirectPNGPath'] = '/usr/bin/mscore3'"
      ],
      "metadata": {
        "id": "8pHLzGTgxft0"
      },
      "execution_count": null,
      "outputs": []
    },
    {
      "cell_type": "markdown",
      "source": [
        "Everything is ready, we can compute and display the differences."
      ],
      "metadata": {
        "id": "IJV_MwcSGX5k"
      }
    },
    {
      "cell_type": "code",
      "source": [
        "path_score1 = \"/content/musicdiff/tests/test_scores/musicxml/chord_score_1a.xml\"\n",
        "path_score2 = \"/content/musicdiff/tests/test_scores/musicxml/chord_score_1b.xml\"\n",
        "out_pdf_path1 = \"/content/score1.pdf\"\n",
        "out_pdf_path2 = \"/content/score2.pdf\"\n",
        "musicdiff.diff(path_score1,path_score2, out_pdf_path1, out_pdf_path2)"
      ],
      "metadata": {
        "id": "BvEXOlDqxuww"
      },
      "execution_count": null,
      "outputs": []
    },
    {
      "cell_type": "markdown",
      "source": [
        "The two score pdfs are saved in score1.pdf and score2.pdf. You can download them!\n",
        "\n",
        "Google colab does not support the visualization of pdf files, but we can visualize them by importing the temporary musicxml files and calling music21 show() function."
      ],
      "metadata": {
        "id": "J3z4ILeSGm19"
      }
    },
    {
      "cell_type": "code",
      "source": [
        "music21.converter.parse(\"/content/score1.musicxml\").show()"
      ],
      "metadata": {
        "id": "RAXSmKpNIEVA"
      },
      "execution_count": null,
      "outputs": []
    },
    {
      "cell_type": "code",
      "source": [
        "music21.converter.parse(\"/content/score2.musicxml\").show()"
      ],
      "metadata": {
        "id": "y7y3sJM4Kt5U"
      },
      "execution_count": null,
      "outputs": []
    }
  ]
}