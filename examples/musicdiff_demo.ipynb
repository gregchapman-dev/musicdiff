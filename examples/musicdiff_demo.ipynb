{
  "nbformat": 4,
  "nbformat_minor": 0,
  "metadata": {
    "colab": {
      "name": "musicdiff Demo",
      "provenance": [],
      "authorship_tag": "ABX9TyMLSYdH36tL7M7GJLDqErxX",
      "include_colab_link": true
    },
    "kernelspec": {
      "name": "python3",
      "display_name": "Python 3"
    },
    "language_info": {
      "name": "python"
    }
  },
  "cells": [
    {
      "cell_type": "markdown",
      "metadata": {
        "id": "view-in-github",
        "colab_type": "text"
      },
      "source": [
        "<a href=\"https://colab.research.google.com/github/gregchapman-dev/musicdiff/blob/return_output_path/examples/musicdiff_demo.ipynb\" target=\"_parent\"><img src=\"https://colab.research.google.com/assets/colab-badge.svg\" alt=\"Open In Colab\"/></a>"
      ]
    },
    {
      "cell_type": "code",
      "execution_count": 1,
      "metadata": {
        "colab": {
          "base_uri": "https://localhost:8080/"
        },
        "id": "Xs5PXxMtwcoH",
        "outputId": "95aabe72-90dd-411f-9d6d-8020dd758315"
      },
      "outputs": [
        {
          "output_type": "stream",
          "name": "stdout",
          "text": [
            "Collecting git+https://github.com/gregchapman-dev/musicdiff@return_output_path\n",
            "  Cloning https://github.com/gregchapman-dev/musicdiff (to revision return_output_path) to /tmp/pip-req-build-3h5lor39\n",
            "  Running command git clone -q https://github.com/gregchapman-dev/musicdiff /tmp/pip-req-build-3h5lor39\n",
            "  Running command git checkout -b return_output_path --track origin/return_output_path\n",
            "  Switched to a new branch 'return_output_path'\n",
            "  Branch 'return_output_path' set up to track remote branch 'return_output_path' from 'origin'.\n",
            "Requirement already satisfied: music21 in /usr/local/lib/python3.7/dist-packages (from musicdiff==0.9.0) (5.5.0)\n",
            "Requirement already satisfied: numpy in /usr/local/lib/python3.7/dist-packages (from musicdiff==0.9.0) (1.19.5)\n",
            "Building wheels for collected packages: musicdiff\n",
            "  Building wheel for musicdiff (setup.py) ... \u001b[?25l\u001b[?25hdone\n",
            "  Created wheel for musicdiff: filename=musicdiff-0.9.0-py3-none-any.whl size=19980 sha256=40ffb833ef0d2fddf64c2fb97420d2366c4e22cc1b7ba1bca0ddd7ad61241919\n",
            "  Stored in directory: /tmp/pip-ephem-wheel-cache-t9ghkltw/wheels/b0/f2/49/5310535f16b034517426dbe3e6b8c75bcff1612aa1e3a5672c\n",
            "Successfully built musicdiff\n",
            "Installing collected packages: musicdiff\n",
            "Successfully installed musicdiff-0.9.0\n",
            "Requirement already satisfied: music21 in /usr/local/lib/python3.7/dist-packages (5.5.0)\n",
            "Collecting music21\n",
            "  Downloading music21-7.1.0.tar.gz (19.2 MB)\n",
            "\u001b[K     |████████████████████████████████| 19.2 MB 1.3 MB/s \n",
            "\u001b[?25hRequirement already satisfied: chardet in /usr/local/lib/python3.7/dist-packages (from music21) (3.0.4)\n",
            "Requirement already satisfied: joblib in /usr/local/lib/python3.7/dist-packages (from music21) (1.1.0)\n",
            "Collecting jsonpickle\n",
            "  Downloading jsonpickle-2.1.0-py2.py3-none-any.whl (38 kB)\n",
            "Requirement already satisfied: matplotlib in /usr/local/lib/python3.7/dist-packages (from music21) (3.2.2)\n",
            "Requirement already satisfied: more_itertools in /usr/local/lib/python3.7/dist-packages (from music21) (8.12.0)\n",
            "Requirement already satisfied: numpy in /usr/local/lib/python3.7/dist-packages (from music21) (1.19.5)\n",
            "Collecting webcolors>=1.5\n",
            "  Downloading webcolors-1.11.1-py3-none-any.whl (9.9 kB)\n",
            "Requirement already satisfied: importlib-metadata in /usr/local/lib/python3.7/dist-packages (from jsonpickle->music21) (4.10.0)\n",
            "Requirement already satisfied: typing-extensions>=3.6.4 in /usr/local/lib/python3.7/dist-packages (from importlib-metadata->jsonpickle->music21) (3.10.0.2)\n",
            "Requirement already satisfied: zipp>=0.5 in /usr/local/lib/python3.7/dist-packages (from importlib-metadata->jsonpickle->music21) (3.7.0)\n",
            "Requirement already satisfied: pyparsing!=2.0.4,!=2.1.2,!=2.1.6,>=2.0.1 in /usr/local/lib/python3.7/dist-packages (from matplotlib->music21) (3.0.6)\n",
            "Requirement already satisfied: python-dateutil>=2.1 in /usr/local/lib/python3.7/dist-packages (from matplotlib->music21) (2.8.2)\n",
            "Requirement already satisfied: kiwisolver>=1.0.1 in /usr/local/lib/python3.7/dist-packages (from matplotlib->music21) (1.3.2)\n",
            "Requirement already satisfied: cycler>=0.10 in /usr/local/lib/python3.7/dist-packages (from matplotlib->music21) (0.11.0)\n",
            "Requirement already satisfied: six>=1.5 in /usr/local/lib/python3.7/dist-packages (from python-dateutil>=2.1->matplotlib->music21) (1.15.0)\n",
            "Building wheels for collected packages: music21\n",
            "  Building wheel for music21 (setup.py) ... \u001b[?25l\u001b[?25hdone\n",
            "  Created wheel for music21: filename=music21-7.1.0-py3-none-any.whl size=21912607 sha256=81717bade723f7eb40e740b56e871d60b6cf6b33311db35d035b11c2c810bf53\n",
            "  Stored in directory: /root/.cache/pip/wheels/98/3c/67/9e30a8a4c3ac934068c95d2c27e38e1b5e5016a9257dbbf5d0\n",
            "Successfully built music21\n",
            "Installing collected packages: webcolors, jsonpickle, music21\n",
            "  Attempting uninstall: music21\n",
            "    Found existing installation: music21 5.5.0\n",
            "    Uninstalling music21-5.5.0:\n",
            "      Successfully uninstalled music21-5.5.0\n",
            "Successfully installed jsonpickle-2.1.0 music21-7.1.0 webcolors-1.11.1\n"
          ]
        }
      ],
      "source": [
        "!pip install git+https://github.com/gregchapman-dev/musicdiff@return_output_path\n",
        "!pip install --upgrade music21"
      ]
    },
    {
      "cell_type": "code",
      "source": [
        "# install musescore for the visualization\n",
        "!yes | add-apt-repository ppa:mscore-ubuntu/mscore3-stable\n",
        "!apt update\n",
        "!apt install musescore3"
      ],
      "metadata": {
        "colab": {
          "base_uri": "https://localhost:8080/"
        },
        "id": "bzrSzL22yu2T",
        "outputId": "ae2e7f2f-33cd-4609-d380-b057ca0e30bb"
      },
      "execution_count": 2,
      "outputs": [
        {
          "output_type": "stream",
          "name": "stdout",
          "text": [
            " ~~~~~~~~~ MUSESCORE 3 RELEASES FOR UBUNTU 18.04 AND LATER ~~~~~~~~~\n",
            "INSTALLING: (run these commands from the terminal)\n",
            "  sudo add-apt-repository ppa:mscore-ubuntu/mscore3-stable\n",
            "  sudo apt-get update\n",
            "  sudo apt-get install musescore3\n",
            "\n",
            "DO *NOT* USE THESE PPAs on Debian, only on Ubuntu!\n",
            "\n",
            "‣‣‣ These packages are NOT suitable for ”KDE neon”!\n",
            "‣ Use https://build.opensuse.org/project/show/home:mirabile:mscore instead.\n",
            "\n",
            "See https://launchpad.net/~mscore-ubuntu/+archive/ubuntu/mscore-stable\n",
            "if you need to install MuseScore 2 (the older version) for some reason.\n",
            "\n",
            "Note: MuseScore 3 cannot be made available for releases older than\n",
            "Ubuntu 18.04 (“bionic”) LTS.\n",
            "\n",
            "                                GETTING HELP:\n",
            " * Have a look at the Online Handbook: https://musescore.org/handbook\n",
            " * Try Google. Search for \"musescore\" and the problem you are having.\n",
            " * If those options fail you can try asking on the forum (see below).\n",
            "\n",
            "                           CONTACTING THE DEVELOPERS:\n",
            "     * Forums: https://musescore.org/forum (for discussion and help)\n",
            "     * Issue tracker: https://musescore.org/project/issues (report bugs)\n",
            "         Feel free to discuss MuseScore and request new features in the\n",
            "          forums. Please only use the issue tracker for reporting bugs.\n",
            "\n",
            "Please do not contact members of the MuseScore Maintainers team here on\n",
            "Launchpad unless you are absolutely certain that your problem is unique to\n",
            "MuseScore on Ubuntu, and affects no other operating system. It is always\n",
            "best to get in touch via musescore.org where you are likely to get a reply\n",
            "sooner, and others are able to read it and benefit too. Enjoy MuseScore!\n",
            "~~~~~~~~~ MUSESCORE 3 RELEASES FOR UBUNTU 18.04 AND LATER ~~~~~~~~~\n",
            "\n",
            "Users of cosmic (18.10), disco (19.04) and eoan (19.10) please also set up the\n",
            "MuseScore 2 repository linked above in order to get the latest soundfonts for\n",
            "their respective discontinued releases. We’re sorry we cannot provide newer\n",
            "packages for discontinued nōn-LTS releases on Launchpad.\n",
            " More info: https://launchpad.net/~mscore-ubuntu/+archive/ubuntu/mscore3-stable\n",
            "Get:1 http://security.ubuntu.com/ubuntu bionic-security InRelease [88.7 kB]\n",
            "Get:2 https://cloud.r-project.org/bin/linux/ubuntu bionic-cran40/ InRelease [3,626 B]\n",
            "Ign:3 https://developer.download.nvidia.com/compute/cuda/repos/ubuntu1804/x86_64  InRelease\n",
            "Get:4 http://ppa.launchpad.net/c2d4u.team/c2d4u4.0+/ubuntu bionic InRelease [15.9 kB]\n",
            "Ign:5 https://developer.download.nvidia.com/compute/machine-learning/repos/ubuntu1804/x86_64  InRelease\n",
            "Get:6 https://developer.download.nvidia.com/compute/cuda/repos/ubuntu1804/x86_64  Release [696 B]\n",
            "Hit:7 http://archive.ubuntu.com/ubuntu bionic InRelease\n",
            "Hit:8 https://developer.download.nvidia.com/compute/machine-learning/repos/ubuntu1804/x86_64  Release\n",
            "Get:9 https://developer.download.nvidia.com/compute/cuda/repos/ubuntu1804/x86_64  Release.gpg [836 B]\n",
            "Get:10 http://archive.ubuntu.com/ubuntu bionic-updates InRelease [88.7 kB]\n",
            "Get:11 https://cloud.r-project.org/bin/linux/ubuntu bionic-cran40/ Packages [76.0 kB]\n",
            "Hit:12 http://ppa.launchpad.net/cran/libgit2/ubuntu bionic InRelease\n",
            "Get:13 http://archive.ubuntu.com/ubuntu bionic-backports InRelease [74.6 kB]\n",
            "Get:14 http://ppa.launchpad.net/deadsnakes/ppa/ubuntu bionic InRelease [15.9 kB]\n",
            "Get:15 http://security.ubuntu.com/ubuntu bionic-security/restricted amd64 Packages [738 kB]\n",
            "Get:16 http://security.ubuntu.com/ubuntu bionic-security/universe amd64 Packages [1,463 kB]\n",
            "Get:17 http://security.ubuntu.com/ubuntu bionic-security/main amd64 Packages [2,516 kB]\n",
            "Hit:18 http://ppa.launchpad.net/graphics-drivers/ppa/ubuntu bionic InRelease\n",
            "Get:19 http://ppa.launchpad.net/mscore-ubuntu/mscore3-stable/ubuntu bionic InRelease [15.4 kB]\n",
            "Get:21 https://developer.download.nvidia.com/compute/cuda/repos/ubuntu1804/x86_64  Packages [872 kB]\n",
            "Get:22 http://ppa.launchpad.net/c2d4u.team/c2d4u4.0+/ubuntu bionic/main Sources [1,823 kB]\n",
            "Get:23 http://archive.ubuntu.com/ubuntu bionic-updates/universe amd64 Packages [2,242 kB]\n",
            "Get:24 http://ppa.launchpad.net/c2d4u.team/c2d4u4.0+/ubuntu bionic/main amd64 Packages [934 kB]\n",
            "Get:25 http://archive.ubuntu.com/ubuntu bionic-updates/restricted amd64 Packages [771 kB]\n",
            "Get:26 http://archive.ubuntu.com/ubuntu bionic-updates/main amd64 Packages [2,954 kB]\n",
            "Get:27 http://ppa.launchpad.net/deadsnakes/ppa/ubuntu bionic/main amd64 Packages [45.3 kB]\n",
            "Get:28 http://ppa.launchpad.net/mscore-ubuntu/mscore3-stable/ubuntu bionic/main amd64 Packages [2,059 B]\n",
            "Fetched 14.7 MB in 4s (3,657 kB/s)\n",
            "Reading package lists... Done\n",
            "Hit:1 https://cloud.r-project.org/bin/linux/ubuntu bionic-cran40/ InRelease\n",
            "Ign:2 https://developer.download.nvidia.com/compute/cuda/repos/ubuntu1804/x86_64  InRelease\n",
            "Hit:3 http://security.ubuntu.com/ubuntu bionic-security InRelease\n",
            "Hit:4 http://archive.ubuntu.com/ubuntu bionic InRelease\n",
            "Ign:5 https://developer.download.nvidia.com/compute/machine-learning/repos/ubuntu1804/x86_64  InRelease\n",
            "Hit:6 https://developer.download.nvidia.com/compute/cuda/repos/ubuntu1804/x86_64  Release\n",
            "Hit:7 https://developer.download.nvidia.com/compute/machine-learning/repos/ubuntu1804/x86_64  Release\n",
            "Hit:8 http://ppa.launchpad.net/c2d4u.team/c2d4u4.0+/ubuntu bionic InRelease\n",
            "Hit:9 http://archive.ubuntu.com/ubuntu bionic-updates InRelease\n",
            "Hit:10 http://archive.ubuntu.com/ubuntu bionic-backports InRelease\n",
            "Hit:11 http://ppa.launchpad.net/cran/libgit2/ubuntu bionic InRelease\n",
            "Hit:12 http://ppa.launchpad.net/deadsnakes/ppa/ubuntu bionic InRelease\n",
            "Hit:13 http://ppa.launchpad.net/graphics-drivers/ppa/ubuntu bionic InRelease\n",
            "Hit:14 http://ppa.launchpad.net/mscore-ubuntu/mscore3-stable/ubuntu bionic InRelease\n",
            "Reading package lists... Done\n",
            "Building dependency tree       \n",
            "Reading state information... Done\n",
            "58 packages can be upgraded. Run 'apt list --upgradable' to see them.\n",
            "Reading package lists... Done\n",
            "Building dependency tree       \n",
            "Reading state information... Done\n",
            "The following additional packages will be installed:\n",
            "  desktop-file-utils fonts-freefont-ttf libgl1-mesa-glx libpoppler-qt5-1\n",
            "  libportaudio2 libportmidi0 libqt5help5 libqt5qml5 libqt5quick5 libqt5svg5\n",
            "  libqt5xmlpatterns5 musescore-general-soundfont-small musescore3-common\n",
            "  qml-module-qtgraphicaleffects qml-module-qtquick-controls\n",
            "  qml-module-qtquick-dialogs qml-module-qtquick-layouts\n",
            "  qml-module-qtquick-privatewidgets qml-module-qtquick-window2\n",
            "  qml-module-qtquick2\n",
            "Suggested packages:\n",
            "  qt5-qmltooling-plugins pulseaudio-utils\n",
            "The following NEW packages will be installed:\n",
            "  desktop-file-utils fonts-freefont-ttf libgl1-mesa-glx libpoppler-qt5-1\n",
            "  libportaudio2 libportmidi0 libqt5help5 libqt5qml5 libqt5quick5 libqt5svg5\n",
            "  libqt5xmlpatterns5 musescore-general-soundfont-small musescore3\n",
            "  musescore3-common qml-module-qtgraphicaleffects qml-module-qtquick-controls\n",
            "  qml-module-qtquick-dialogs qml-module-qtquick-layouts\n",
            "  qml-module-qtquick-privatewidgets qml-module-qtquick-window2\n",
            "  qml-module-qtquick2\n",
            "0 upgraded, 21 newly installed, 0 to remove and 58 not upgraded.\n",
            "Need to get 54.5 MB of archives.\n",
            "After this operation, 129 MB of additional disk space will be used.\n",
            "Get:1 http://archive.ubuntu.com/ubuntu bionic-updates/main amd64 libqt5svg5 amd64 5.9.5-0ubuntu1.1 [129 kB]\n",
            "Get:2 http://ppa.launchpad.net/mscore-ubuntu/mscore3-stable/ubuntu bionic/main amd64 musescore-general-soundfont-small all 0.2.1-1~ppa [34.2 MB]\n",
            "Get:3 http://archive.ubuntu.com/ubuntu bionic-updates/universe amd64 libqt5qml5 amd64 5.9.5-0ubuntu1.1 [1,242 kB]\n",
            "Get:4 http://archive.ubuntu.com/ubuntu bionic-updates/universe amd64 libqt5quick5 amd64 5.9.5-0ubuntu1.1 [1,201 kB]\n",
            "Get:5 http://archive.ubuntu.com/ubuntu bionic-updates/universe amd64 qml-module-qtquick-window2 amd64 5.9.5-0ubuntu1.1 [18.1 kB]\n",
            "Get:6 http://archive.ubuntu.com/ubuntu bionic-updates/universe amd64 qml-module-qtquick2 amd64 5.9.5-0ubuntu1.1 [31.4 kB]\n",
            "Get:7 http://archive.ubuntu.com/ubuntu bionic/universe amd64 qml-module-qtgraphicaleffects amd64 5.9.5-0ubuntu1 [96.1 kB]\n",
            "Get:8 http://archive.ubuntu.com/ubuntu bionic-updates/universe amd64 qml-module-qtquick-layouts amd64 5.9.5-0ubuntu1.1 [44.9 kB]\n",
            "Get:9 http://archive.ubuntu.com/ubuntu bionic/universe amd64 qml-module-qtquick-controls amd64 5.9.5-0ubuntu1 [712 kB]\n",
            "Get:10 http://archive.ubuntu.com/ubuntu bionic-updates/main amd64 desktop-file-utils amd64 0.23-1ubuntu3.18.04.2 [51.4 kB]\n",
            "Get:11 http://archive.ubuntu.com/ubuntu bionic/main amd64 fonts-freefont-ttf all 20120503-7 [4,202 kB]\n",
            "Get:12 http://archive.ubuntu.com/ubuntu bionic-updates/main amd64 libgl1-mesa-glx amd64 20.0.8-0ubuntu1~18.04.1 [5,532 B]\n",
            "Get:13 http://archive.ubuntu.com/ubuntu bionic-updates/universe amd64 libpoppler-qt5-1 amd64 0.62.0-2ubuntu2.12 [140 kB]\n",
            "Get:14 http://archive.ubuntu.com/ubuntu bionic/universe amd64 libportaudio2 amd64 19.6.0-1 [64.6 kB]\n",
            "Get:15 http://archive.ubuntu.com/ubuntu bionic/universe amd64 libportmidi0 amd64 1:217-6 [17.8 kB]\n",
            "Get:16 http://archive.ubuntu.com/ubuntu bionic/universe amd64 libqt5help5 amd64 5.9.5-0ubuntu1 [133 kB]\n",
            "Get:17 http://archive.ubuntu.com/ubuntu bionic/universe amd64 libqt5xmlpatterns5 amd64 5.9.5-0ubuntu1 [916 kB]\n",
            "Get:18 http://archive.ubuntu.com/ubuntu bionic/universe amd64 qml-module-qtquick-privatewidgets amd64 5.9.5-0ubuntu1 [41.7 kB]\n",
            "Get:19 http://archive.ubuntu.com/ubuntu bionic/universe amd64 qml-module-qtquick-dialogs amd64 5.9.5-0ubuntu1 [122 kB]\n",
            "Get:20 http://ppa.launchpad.net/mscore-ubuntu/mscore3-stable/ubuntu bionic/main amd64 musescore3-common all 3.2.3+dfsg2-11~ppa1804+1 [3,816 kB]\n",
            "Get:21 http://ppa.launchpad.net/mscore-ubuntu/mscore3-stable/ubuntu bionic/main amd64 musescore3 amd64 3.2.3+dfsg2-11~ppa1804+1 [7,384 kB]\n",
            "Fetched 54.5 MB in 4s (14.1 MB/s)\n",
            "Selecting previously unselected package libqt5svg5:amd64.\n",
            "(Reading database ... 155229 files and directories currently installed.)\n",
            "Preparing to unpack .../00-libqt5svg5_5.9.5-0ubuntu1.1_amd64.deb ...\n",
            "Unpacking libqt5svg5:amd64 (5.9.5-0ubuntu1.1) ...\n",
            "Selecting previously unselected package libqt5qml5:amd64.\n",
            "Preparing to unpack .../01-libqt5qml5_5.9.5-0ubuntu1.1_amd64.deb ...\n",
            "Unpacking libqt5qml5:amd64 (5.9.5-0ubuntu1.1) ...\n",
            "Selecting previously unselected package libqt5quick5:amd64.\n",
            "Preparing to unpack .../02-libqt5quick5_5.9.5-0ubuntu1.1_amd64.deb ...\n",
            "Unpacking libqt5quick5:amd64 (5.9.5-0ubuntu1.1) ...\n",
            "Selecting previously unselected package qml-module-qtquick-window2:amd64.\n",
            "Preparing to unpack .../03-qml-module-qtquick-window2_5.9.5-0ubuntu1.1_amd64.deb ...\n",
            "Unpacking qml-module-qtquick-window2:amd64 (5.9.5-0ubuntu1.1) ...\n",
            "Selecting previously unselected package qml-module-qtquick2:amd64.\n",
            "Preparing to unpack .../04-qml-module-qtquick2_5.9.5-0ubuntu1.1_amd64.deb ...\n",
            "Unpacking qml-module-qtquick2:amd64 (5.9.5-0ubuntu1.1) ...\n",
            "Selecting previously unselected package qml-module-qtgraphicaleffects:amd64.\n",
            "Preparing to unpack .../05-qml-module-qtgraphicaleffects_5.9.5-0ubuntu1_amd64.deb ...\n",
            "Unpacking qml-module-qtgraphicaleffects:amd64 (5.9.5-0ubuntu1) ...\n",
            "Selecting previously unselected package qml-module-qtquick-layouts:amd64.\n",
            "Preparing to unpack .../06-qml-module-qtquick-layouts_5.9.5-0ubuntu1.1_amd64.deb ...\n",
            "Unpacking qml-module-qtquick-layouts:amd64 (5.9.5-0ubuntu1.1) ...\n",
            "Selecting previously unselected package qml-module-qtquick-controls:amd64.\n",
            "Preparing to unpack .../07-qml-module-qtquick-controls_5.9.5-0ubuntu1_amd64.deb ...\n",
            "Unpacking qml-module-qtquick-controls:amd64 (5.9.5-0ubuntu1) ...\n",
            "Selecting previously unselected package desktop-file-utils.\n",
            "Preparing to unpack .../08-desktop-file-utils_0.23-1ubuntu3.18.04.2_amd64.deb ...\n",
            "Unpacking desktop-file-utils (0.23-1ubuntu3.18.04.2) ...\n",
            "Selecting previously unselected package fonts-freefont-ttf.\n",
            "Preparing to unpack .../09-fonts-freefont-ttf_20120503-7_all.deb ...\n",
            "Unpacking fonts-freefont-ttf (20120503-7) ...\n",
            "Selecting previously unselected package libgl1-mesa-glx:amd64.\n",
            "Preparing to unpack .../10-libgl1-mesa-glx_20.0.8-0ubuntu1~18.04.1_amd64.deb ...\n",
            "Unpacking libgl1-mesa-glx:amd64 (20.0.8-0ubuntu1~18.04.1) ...\n",
            "Selecting previously unselected package libpoppler-qt5-1:amd64.\n",
            "Preparing to unpack .../11-libpoppler-qt5-1_0.62.0-2ubuntu2.12_amd64.deb ...\n",
            "Unpacking libpoppler-qt5-1:amd64 (0.62.0-2ubuntu2.12) ...\n",
            "Selecting previously unselected package libportaudio2:amd64.\n",
            "Preparing to unpack .../12-libportaudio2_19.6.0-1_amd64.deb ...\n",
            "Unpacking libportaudio2:amd64 (19.6.0-1) ...\n",
            "Selecting previously unselected package libportmidi0:amd64.\n",
            "Preparing to unpack .../13-libportmidi0_1%3a217-6_amd64.deb ...\n",
            "Unpacking libportmidi0:amd64 (1:217-6) ...\n",
            "Selecting previously unselected package libqt5help5:amd64.\n",
            "Preparing to unpack .../14-libqt5help5_5.9.5-0ubuntu1_amd64.deb ...\n",
            "Unpacking libqt5help5:amd64 (5.9.5-0ubuntu1) ...\n",
            "Selecting previously unselected package libqt5xmlpatterns5:amd64.\n",
            "Preparing to unpack .../15-libqt5xmlpatterns5_5.9.5-0ubuntu1_amd64.deb ...\n",
            "Unpacking libqt5xmlpatterns5:amd64 (5.9.5-0ubuntu1) ...\n",
            "Selecting previously unselected package musescore-general-soundfont-small.\n",
            "Preparing to unpack .../16-musescore-general-soundfont-small_0.2.1-1~ppa_all.deb ...\n",
            "Unpacking musescore-general-soundfont-small (0.2.1-1~ppa) ...\n",
            "Selecting previously unselected package qml-module-qtquick-privatewidgets:amd64.\n",
            "Preparing to unpack .../17-qml-module-qtquick-privatewidgets_5.9.5-0ubuntu1_amd64.deb ...\n",
            "Unpacking qml-module-qtquick-privatewidgets:amd64 (5.9.5-0ubuntu1) ...\n",
            "Selecting previously unselected package qml-module-qtquick-dialogs:amd64.\n",
            "Preparing to unpack .../18-qml-module-qtquick-dialogs_5.9.5-0ubuntu1_amd64.deb ...\n",
            "Unpacking qml-module-qtquick-dialogs:amd64 (5.9.5-0ubuntu1) ...\n",
            "Selecting previously unselected package musescore3-common.\n",
            "Preparing to unpack .../19-musescore3-common_3.2.3+dfsg2-11~ppa1804+1_all.deb ...\n",
            "Unpacking musescore3-common (3.2.3+dfsg2-11~ppa1804+1) ...\n",
            "Selecting previously unselected package musescore3.\n",
            "Preparing to unpack .../20-musescore3_3.2.3+dfsg2-11~ppa1804+1_amd64.deb ...\n",
            "Unpacking musescore3 (3.2.3+dfsg2-11~ppa1804+1) ...\n",
            "Setting up libqt5qml5:amd64 (5.9.5-0ubuntu1.1) ...\n",
            "Setting up libqt5quick5:amd64 (5.9.5-0ubuntu1.1) ...\n",
            "Setting up qml-module-qtquick2:amd64 (5.9.5-0ubuntu1.1) ...\n",
            "Setting up libportaudio2:amd64 (19.6.0-1) ...\n",
            "Setting up desktop-file-utils (0.23-1ubuntu3.18.04.2) ...\n",
            "Setting up libpoppler-qt5-1:amd64 (0.62.0-2ubuntu2.12) ...\n",
            "Setting up qml-module-qtquick-layouts:amd64 (5.9.5-0ubuntu1.1) ...\n",
            "Setting up musescore-general-soundfont-small (0.2.1-1~ppa) ...\n",
            "update-alternatives: using /usr/share/sounds/sf3/MuseScore_General_Lite.sf3 to provide /usr/share/sounds/sf3/default-GM.sf3 (default-GM.sf3) in auto mode\n",
            "update-alternatives: using /usr/share/sounds/sf3/MuseScore_General_Lite.sf3 to provide /usr/share/sounds/sf3/MuseScore_General.sf3 (MuseScore_General.sf3) in auto mode\n",
            "Setting up libqt5help5:amd64 (5.9.5-0ubuntu1) ...\n",
            "Setting up libqt5xmlpatterns5:amd64 (5.9.5-0ubuntu1) ...\n",
            "Setting up qml-module-qtquick-privatewidgets:amd64 (5.9.5-0ubuntu1) ...\n",
            "Setting up libgl1-mesa-glx:amd64 (20.0.8-0ubuntu1~18.04.1) ...\n",
            "Setting up libportmidi0:amd64 (1:217-6) ...\n",
            "Setting up libqt5svg5:amd64 (5.9.5-0ubuntu1.1) ...\n",
            "Setting up qml-module-qtquick-window2:amd64 (5.9.5-0ubuntu1.1) ...\n",
            "Setting up qml-module-qtquick-dialogs:amd64 (5.9.5-0ubuntu1) ...\n",
            "Setting up fonts-freefont-ttf (20120503-7) ...\n",
            "Setting up musescore3-common (3.2.3+dfsg2-11~ppa1804+1) ...\n",
            "Setting up qml-module-qtgraphicaleffects:amd64 (5.9.5-0ubuntu1) ...\n",
            "Setting up qml-module-qtquick-controls:amd64 (5.9.5-0ubuntu1) ...\n",
            "Setting up musescore3 (3.2.3+dfsg2-11~ppa1804+1) ...\n",
            "Processing triggers for man-db (2.8.3-2ubuntu0.1) ...\n",
            "Processing triggers for shared-mime-info (1.9-2) ...\n",
            "Processing triggers for hicolor-icon-theme (0.17-2) ...\n",
            "Processing triggers for fontconfig (2.12.6-0ubuntu2) ...\n",
            "Processing triggers for mime-support (3.60ubuntu1) ...\n",
            "Processing triggers for libc-bin (2.27-3ubuntu1.3) ...\n",
            "/sbin/ldconfig.real: /usr/local/lib/python3.7/dist-packages/ideep4py/lib/libmkldnn.so.0 is not a symbolic link\n",
            "\n"
          ]
        }
      ]
    },
    {
      "cell_type": "code",
      "source": [
        "# clone repo, only to get some example musical scores.\n",
        "# This is not necessary if you are running it on your scores\n",
        "\n",
        "!git clone https://github.com/gregchapman-dev/musicdiff"
      ],
      "metadata": {
        "colab": {
          "base_uri": "https://localhost:8080/"
        },
        "id": "QNg2z_pFwfK3",
        "outputId": "d616488d-76d0-4d67-95b3-ddbfab740124"
      },
      "execution_count": 3,
      "outputs": [
        {
          "output_type": "stream",
          "name": "stdout",
          "text": [
            "Cloning into 'musicdiff'...\n",
            "remote: Enumerating objects: 154, done.\u001b[K\n",
            "remote: Counting objects:   0% (1/154)\u001b[K\rremote: Counting objects:   1% (2/154)\u001b[K\rremote: Counting objects:   2% (4/154)\u001b[K\rremote: Counting objects:   3% (5/154)\u001b[K\rremote: Counting objects:   4% (7/154)\u001b[K\rremote: Counting objects:   5% (8/154)\u001b[K\rremote: Counting objects:   6% (10/154)\u001b[K\rremote: Counting objects:   7% (11/154)\u001b[K\rremote: Counting objects:   8% (13/154)\u001b[K\rremote: Counting objects:   9% (14/154)\u001b[K\rremote: Counting objects:  10% (16/154)\u001b[K\rremote: Counting objects:  11% (17/154)\u001b[K\rremote: Counting objects:  12% (19/154)\u001b[K\rremote: Counting objects:  13% (21/154)\u001b[K\rremote: Counting objects:  14% (22/154)\u001b[K\rremote: Counting objects:  15% (24/154)\u001b[K\rremote: Counting objects:  16% (25/154)\u001b[K\rremote: Counting objects:  17% (27/154)\u001b[K\rremote: Counting objects:  18% (28/154)\u001b[K\rremote: Counting objects:  19% (30/154)\u001b[K\rremote: Counting objects:  20% (31/154)\u001b[K\rremote: Counting objects:  21% (33/154)\u001b[K\rremote: Counting objects:  22% (34/154)\u001b[K\rremote: Counting objects:  23% (36/154)\u001b[K\rremote: Counting objects:  24% (37/154)\u001b[K\rremote: Counting objects:  25% (39/154)\u001b[K\rremote: Counting objects:  26% (41/154)\u001b[K\rremote: Counting objects:  27% (42/154)\u001b[K\rremote: Counting objects:  28% (44/154)\u001b[K\rremote: Counting objects:  29% (45/154)\u001b[K\rremote: Counting objects:  30% (47/154)\u001b[K\rremote: Counting objects:  31% (48/154)\u001b[K\rremote: Counting objects:  32% (50/154)\u001b[K\rremote: Counting objects:  33% (51/154)\u001b[K\rremote: Counting objects:  34% (53/154)\u001b[K\rremote: Counting objects:  35% (54/154)\u001b[K\rremote: Counting objects:  36% (56/154)\u001b[K\rremote: Counting objects:  37% (57/154)\u001b[K\rremote: Counting objects:  38% (59/154)\u001b[K\rremote: Counting objects:  39% (61/154)\u001b[K\rremote: Counting objects:  40% (62/154)\u001b[K\rremote: Counting objects:  41% (64/154)\u001b[K\rremote: Counting objects:  42% (65/154)\u001b[K\rremote: Counting objects:  43% (67/154)\u001b[K\rremote: Counting objects:  44% (68/154)\u001b[K\rremote: Counting objects:  45% (70/154)\u001b[K\rremote: Counting objects:  46% (71/154)\u001b[K\rremote: Counting objects:  47% (73/154)\u001b[K\rremote: Counting objects:  48% (74/154)\u001b[K\rremote: Counting objects:  49% (76/154)\u001b[K\rremote: Counting objects:  50% (77/154)\u001b[K\rremote: Counting objects:  51% (79/154)\u001b[K\rremote: Counting objects:  52% (81/154)\u001b[K\rremote: Counting objects:  53% (82/154)\u001b[K\rremote: Counting objects:  54% (84/154)\u001b[K\rremote: Counting objects:  55% (85/154)\u001b[K\rremote: Counting objects:  56% (87/154)\u001b[K\rremote: Counting objects:  57% (88/154)\u001b[K\rremote: Counting objects:  58% (90/154)\u001b[K\rremote: Counting objects:  59% (91/154)\u001b[K\rremote: Counting objects:  60% (93/154)\u001b[K\rremote: Counting objects:  61% (94/154)\u001b[K\rremote: Counting objects:  62% (96/154)\u001b[K\rremote: Counting objects:  63% (98/154)\u001b[K\rremote: Counting objects:  64% (99/154)\u001b[K\rremote: Counting objects:  65% (101/154)\u001b[K\rremote: Counting objects:  66% (102/154)\u001b[K\rremote: Counting objects:  67% (104/154)\u001b[K\rremote: Counting objects:  68% (105/154)\u001b[K\rremote: Counting objects:  69% (107/154)\u001b[K\rremote: Counting objects:  70% (108/154)\u001b[K\rremote: Counting objects:  71% (110/154)\u001b[K\rremote: Counting objects:  72% (111/154)\u001b[K\rremote: Counting objects:  73% (113/154)\u001b[K\rremote: Counting objects:  74% (114/154)\u001b[K\rremote: Counting objects:  75% (116/154)\u001b[K\rremote: Counting objects:  76% (118/154)\u001b[K\rremote: Counting objects:  77% (119/154)\u001b[K\rremote: Counting objects:  78% (121/154)\u001b[K\rremote: Counting objects:  79% (122/154)\u001b[K\rremote: Counting objects:  80% (124/154)\u001b[K\rremote: Counting objects:  81% (125/154)\u001b[K\rremote: Counting objects:  82% (127/154)\u001b[K\rremote: Counting objects:  83% (128/154)\u001b[K\rremote: Counting objects:  84% (130/154)\u001b[K\rremote: Counting objects:  85% (131/154)\u001b[K\rremote: Counting objects:  86% (133/154)\u001b[K\rremote: Counting objects:  87% (134/154)\u001b[K\rremote: Counting objects:  88% (136/154)\u001b[K\rremote: Counting objects:  89% (138/154)\u001b[K\rremote: Counting objects:  90% (139/154)\u001b[K\rremote: Counting objects:  91% (141/154)\u001b[K\rremote: Counting objects:  92% (142/154)\u001b[K\rremote: Counting objects:  93% (144/154)\u001b[K\rremote: Counting objects:  94% (145/154)\u001b[K\rremote: Counting objects:  95% (147/154)\u001b[K\rremote: Counting objects:  96% (148/154)\u001b[K\rremote: Counting objects:  97% (150/154)\u001b[K\rremote: Counting objects:  98% (151/154)\u001b[K\rremote: Counting objects:  99% (153/154)\u001b[K\rremote: Counting objects: 100% (154/154)\u001b[K\rremote: Counting objects: 100% (154/154), done.\u001b[K\n",
            "remote: Compressing objects:   1% (1/68)\u001b[K\rremote: Compressing objects:   2% (2/68)\u001b[K\rremote: Compressing objects:   4% (3/68)\u001b[K\rremote: Compressing objects:   5% (4/68)\u001b[K\rremote: Compressing objects:   7% (5/68)\u001b[K\rremote: Compressing objects:   8% (6/68)\u001b[K\rremote: Compressing objects:  10% (7/68)\u001b[K\rremote: Compressing objects:  11% (8/68)\u001b[K\rremote: Compressing objects:  13% (9/68)\u001b[K\rremote: Compressing objects:  14% (10/68)\u001b[K\rremote: Compressing objects:  16% (11/68)\u001b[K\rremote: Compressing objects:  17% (12/68)\u001b[K\rremote: Compressing objects:  19% (13/68)\u001b[K\rremote: Compressing objects:  20% (14/68)\u001b[K\rremote: Compressing objects:  22% (15/68)\u001b[K\rremote: Compressing objects:  23% (16/68)\u001b[K\rremote: Compressing objects:  25% (17/68)\u001b[K\rremote: Compressing objects:  26% (18/68)\u001b[K\rremote: Compressing objects:  27% (19/68)\u001b[K\rremote: Compressing objects:  29% (20/68)\u001b[K\rremote: Compressing objects:  30% (21/68)\u001b[K\rremote: Compressing objects:  32% (22/68)\u001b[K\rremote: Compressing objects:  33% (23/68)\u001b[K\rremote: Compressing objects:  35% (24/68)\u001b[K\rremote: Compressing objects:  36% (25/68)\u001b[K\rremote: Compressing objects:  38% (26/68)\u001b[K\rremote: Compressing objects:  39% (27/68)\u001b[K\rremote: Compressing objects:  41% (28/68)\u001b[K\rremote: Compressing objects:  42% (29/68)\u001b[K\rremote: Compressing objects:  44% (30/68)\u001b[K\rremote: Compressing objects:  45% (31/68)\u001b[K\rremote: Compressing objects:  47% (32/68)\u001b[K\rremote: Compressing objects:  48% (33/68)\u001b[K\rremote: Compressing objects:  50% (34/68)\u001b[K\rremote: Compressing objects:  51% (35/68)\u001b[K\rremote: Compressing objects:  52% (36/68)\u001b[K\rremote: Compressing objects:  54% (37/68)\u001b[K\rremote: Compressing objects:  55% (38/68)\u001b[K\rremote: Compressing objects:  57% (39/68)\u001b[K\rremote: Compressing objects:  58% (40/68)\u001b[K\rremote: Compressing objects:  60% (41/68)\u001b[K\rremote: Compressing objects:  61% (42/68)\u001b[K\rremote: Compressing objects:  63% (43/68)\u001b[K\rremote: Compressing objects:  64% (44/68)\u001b[K\rremote: Compressing objects:  66% (45/68)\u001b[K\rremote: Compressing objects:  67% (46/68)\u001b[K\rremote: Compressing objects:  69% (47/68)\u001b[K\rremote: Compressing objects:  70% (48/68)\u001b[K\rremote: Compressing objects:  72% (49/68)\u001b[K\rremote: Compressing objects:  73% (50/68)\u001b[K\rremote: Compressing objects:  75% (51/68)\u001b[K\rremote: Compressing objects:  76% (52/68)\u001b[K\rremote: Compressing objects:  77% (53/68)\u001b[K\rremote: Compressing objects:  79% (54/68)\u001b[K\rremote: Compressing objects:  80% (55/68)\u001b[K\rremote: Compressing objects:  82% (56/68)\u001b[K\rremote: Compressing objects:  83% (57/68)\u001b[K\rremote: Compressing objects:  85% (58/68)\u001b[K\rremote: Compressing objects:  86% (59/68)\u001b[K\rremote: Compressing objects:  88% (60/68)\u001b[K\rremote: Compressing objects:  89% (61/68)\u001b[K\rremote: Compressing objects:  91% (62/68)\u001b[K\rremote: Compressing objects:  92% (63/68)\u001b[K\rremote: Compressing objects:  94% (64/68)\u001b[K\rremote: Compressing objects:  95% (65/68)\u001b[K\rremote: Compressing objects:  97% (66/68)\u001b[K\rremote: Compressing objects:  98% (67/68)\u001b[K\rremote: Compressing objects: 100% (68/68)\u001b[K\rremote: Compressing objects: 100% (68/68), done.\u001b[K\n",
            "remote: Total 154 (delta 95), reused 144 (delta 85), pack-reused 0\u001b[K\n",
            "Receiving objects: 100% (154/154), 508.55 KiB | 7.37 MiB/s, done.\n",
            "Resolving deltas: 100% (95/95), done.\n"
          ]
        }
      ]
    },
    {
      "cell_type": "markdown",
      "source": [
        "Import libraries and set the correct pat for musescore3."
      ],
      "metadata": {
        "id": "6dAGTq79yuJz"
      }
    },
    {
      "cell_type": "code",
      "source": [
        "import musicdiff\n",
        "import music21\n",
        "from pathlib import Path\n",
        "\n",
        "\n",
        "us = music21.environment.UserSettings()\n",
        "us['musescoreDirectPNGPath'] = '/usr/bin/mscore3'"
      ],
      "metadata": {
        "id": "8pHLzGTgxft0"
      },
      "execution_count": 4,
      "outputs": []
    },
    {
      "cell_type": "markdown",
      "source": [
        "Everything is ready, we can compute and display the differences."
      ],
      "metadata": {
        "id": "IJV_MwcSGX5k"
      }
    },
    {
      "cell_type": "code",
      "source": [
        "path_score1 = \"/content/musicdiff/tests/test_scores/musicxml/chord_score_1a.xml\"\n",
        "path_score2 = \"/content/musicdiff/tests/test_scores/musicxml/chord_score_1b.xml\"\n",
        "out_pdf_path1 = \"/content/score1.pdf\"\n",
        "out_pdf_path2 = \"/content/score2.pdf\"\n",
        "musicdiff.diff(path_score1,path_score2, out_pdf_path1, out_pdf_path2)"
      ],
      "metadata": {
        "colab": {
          "base_uri": "https://localhost:8080/"
        },
        "id": "BvEXOlDqxuww",
        "outputId": "4788caa0-1cfe-4c35-e204-839920f5fb06"
      },
      "execution_count": 20,
      "outputs": [
        {
          "output_type": "stream",
          "name": "stdout",
          "text": [
            "Annotated scores saved in /content/score1.pdf and /content/score2.pdf.\n"
          ]
        },
        {
          "output_type": "execute_result",
          "data": {
            "text/plain": [
              "2"
            ]
          },
          "metadata": {},
          "execution_count": 20
        }
      ]
    },
    {
      "cell_type": "markdown",
      "source": [
        "The two score pdfs are saved in score1.pdf and score2.pdf. You can download them!\n",
        "\n",
        "Google colab does not support the visualization of pdf files, but we can visualize them by importing the temporary musicxml files and calling music21 show() function."
      ],
      "metadata": {
        "id": "J3z4ILeSGm19"
      }
    },
    {
      "cell_type": "code",
      "source": [
        "music21.converter.parse(\"/content/score1.musicxml\").show()"
      ],
      "metadata": {
        "colab": {
          "base_uri": "https://localhost:8080/",
          "height": 135
        },
        "id": "RAXSmKpNIEVA",
        "outputId": "6b49ffc6-bc92-4c9d-a1e9-af3bc9b39725"
      },
      "execution_count": 23,
      "outputs": [
        {
          "output_type": "display_data",
          "data": {
            "image/png": "[encoded data removed]",
            "text/plain": [
              "<IPython.core.display.Image object>"
            ]
          },
          "metadata": {
            "image/png": {
              "width": 326,
              "height": 118
            }
          }
        }
      ]
    },
    {
      "cell_type": "code",
      "source": [
        "music21.converter.parse(\"/content/score2.musicxml\").show()"
      ],
      "metadata": {
        "colab": {
          "base_uri": "https://localhost:8080/",
          "height": 135
        },
        "id": "y7y3sJM4Kt5U",
        "outputId": "cbf631cf-b1d9-405a-a889-01133c9ae765"
      },
      "execution_count": 24,
      "outputs": [
        {
          "output_type": "display_data",
          "data": {
            "image/png": "[encoded data removed]",
            "text/plain": [
              "<IPython.core.display.Image object>"
            ]
          },
          "metadata": {
            "image/png": {
              "width": 299,
              "height": 118
            }
          }
        }
      ]
    }
  ]
}